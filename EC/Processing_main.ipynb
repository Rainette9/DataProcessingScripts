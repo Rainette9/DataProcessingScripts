{
 "cells": [
  {
   "cell_type": "code",
   "execution_count": 3,
   "metadata": {},
   "outputs": [],
   "source": [
    "import numpy as np\n",
    "import pandas as pd\n",
    "import matplotlib.pyplot as plt\n",
    "import importlib\n",
    "import Func_read_data\n",
    "\n",
    "importlib.reload(Func_read_data)\n",
    "\n",
    "from Func_read_data import read_data\n",
    "from Func_despike_data import *\n",
    "from constants import *"
   ]
  },
  {
   "cell_type": "code",
   "execution_count": 6,
   "metadata": {},
   "outputs": [
    {
     "data": {
      "text/plain": [
       "5499.57"
      ]
     },
     "execution_count": 6,
     "metadata": {},
     "output_type": "execute_result"
    }
   ],
   "source": []
  },
  {
   "cell_type": "code",
   "execution_count": 15,
   "metadata": {},
   "outputs": [
    {
     "data": {
      "text/plain": [
       "Index(['PTemp_Avg', 'WD1', 'WD2', 'TA', 'RH', 'HS_Cor', 'HS_Qty', 'SBTempK',\n",
       "       'SFTempK', 'SWdown1', 'SWup1', 'LWdown1', 'LWup1', 'SWdown2', 'SWup2',\n",
       "       'LWdown2', 'LWup2', 'SWdn', 'SensorT', 'PF_FC4', 'WS_FC4'],\n",
       "      dtype='object')"
      ]
     },
     "execution_count": 15,
     "metadata": {},
     "output_type": "execute_result"
    }
   ],
   "source": [
    "\"\"\"READ FAST AND SLOW DATA from folder\"\"\"\n",
    "fast_folder='/home/engbers/Documents/PhD/Data/EC/'\n",
    "fastdata=read_data(fast_folder, 'fast', 'long')\n",
    "\n",
    "slow_folder='/home/engbers/Documents/PhD/Data/EC/'\n",
    "slowdata=read_data(slow_folder, 'slow', 'short')\n",
    "\n",
    "\n",
    "\n",
    "slowdata.columns"
   ]
  },
  {
   "cell_type": "code",
   "execution_count": null,
   "metadata": {},
   "outputs": [
    {
     "ename": "KeyboardInterrupt",
     "evalue": "",
     "output_type": "error",
     "traceback": [
      "\u001b[0;31m---------------------------------------------------------------------------\u001b[0m",
      "\u001b[0;31mKeyboardInterrupt\u001b[0m                         Traceback (most recent call last)",
      "Cell \u001b[0;32mIn[21], line 2\u001b[0m\n\u001b[1;32m      1\u001b[0m freq\u001b[38;5;241m=\u001b[39mfastdata\u001b[38;5;241m.\u001b[39mindex[\u001b[38;5;241m1\u001b[39m]\u001b[38;5;241m-\u001b[39mfastdata\u001b[38;5;241m.\u001b[39mindex[\u001b[38;5;241m0\u001b[39m]\n\u001b[0;32m----> 2\u001b[0m fastdata\u001b[38;5;241m.\u001b[39mresample(freq)\u001b[38;5;241m.\u001b[39mmean()\u001b[38;5;241m.\u001b[39mplot()\n",
      "File \u001b[0;32m~/miniconda3/envs/myenv/lib/python3.12/site-packages/pandas/plotting/_core.py:1030\u001b[0m, in \u001b[0;36mPlotAccessor.__call__\u001b[0;34m(self, *args, **kwargs)\u001b[0m\n\u001b[1;32m   1027\u001b[0m             label_name \u001b[38;5;241m=\u001b[39m label_kw \u001b[38;5;129;01mor\u001b[39;00m data\u001b[38;5;241m.\u001b[39mcolumns\n\u001b[1;32m   1028\u001b[0m             data\u001b[38;5;241m.\u001b[39mcolumns \u001b[38;5;241m=\u001b[39m label_name\n\u001b[0;32m-> 1030\u001b[0m \u001b[38;5;28;01mreturn\u001b[39;00m plot_backend\u001b[38;5;241m.\u001b[39mplot(data, kind\u001b[38;5;241m=\u001b[39mkind, \u001b[38;5;241m*\u001b[39m\u001b[38;5;241m*\u001b[39mkwargs)\n",
      "File \u001b[0;32m~/miniconda3/envs/myenv/lib/python3.12/site-packages/pandas/plotting/_matplotlib/__init__.py:71\u001b[0m, in \u001b[0;36mplot\u001b[0;34m(data, kind, **kwargs)\u001b[0m\n\u001b[1;32m     69\u001b[0m         kwargs[\u001b[38;5;124m\"\u001b[39m\u001b[38;5;124max\u001b[39m\u001b[38;5;124m\"\u001b[39m] \u001b[38;5;241m=\u001b[39m \u001b[38;5;28mgetattr\u001b[39m(ax, \u001b[38;5;124m\"\u001b[39m\u001b[38;5;124mleft_ax\u001b[39m\u001b[38;5;124m\"\u001b[39m, ax)\n\u001b[1;32m     70\u001b[0m plot_obj \u001b[38;5;241m=\u001b[39m PLOT_CLASSES[kind](data, \u001b[38;5;241m*\u001b[39m\u001b[38;5;241m*\u001b[39mkwargs)\n\u001b[0;32m---> 71\u001b[0m plot_obj\u001b[38;5;241m.\u001b[39mgenerate()\n\u001b[1;32m     72\u001b[0m plot_obj\u001b[38;5;241m.\u001b[39mdraw()\n\u001b[1;32m     73\u001b[0m \u001b[38;5;28;01mreturn\u001b[39;00m plot_obj\u001b[38;5;241m.\u001b[39mresult\n",
      "File \u001b[0;32m~/miniconda3/envs/myenv/lib/python3.12/site-packages/pandas/plotting/_matplotlib/core.py:507\u001b[0m, in \u001b[0;36mMPLPlot.generate\u001b[0;34m(self)\u001b[0m\n\u001b[1;32m    504\u001b[0m \u001b[38;5;28mself\u001b[39m\u001b[38;5;241m.\u001b[39m_adorn_subplots(fig)\n\u001b[1;32m    506\u001b[0m \u001b[38;5;28;01mfor\u001b[39;00m ax \u001b[38;5;129;01min\u001b[39;00m \u001b[38;5;28mself\u001b[39m\u001b[38;5;241m.\u001b[39maxes:\n\u001b[0;32m--> 507\u001b[0m     \u001b[38;5;28mself\u001b[39m\u001b[38;5;241m.\u001b[39m_post_plot_logic_common(ax)\n\u001b[1;32m    508\u001b[0m     \u001b[38;5;28mself\u001b[39m\u001b[38;5;241m.\u001b[39m_post_plot_logic(ax, \u001b[38;5;28mself\u001b[39m\u001b[38;5;241m.\u001b[39mdata)\n",
      "File \u001b[0;32m~/miniconda3/envs/myenv/lib/python3.12/site-packages/pandas/plotting/_matplotlib/core.py:720\u001b[0m, in \u001b[0;36mMPLPlot._post_plot_logic_common\u001b[0;34m(self, ax)\u001b[0m\n\u001b[1;32m    718\u001b[0m \u001b[38;5;250m\u001b[39m\u001b[38;5;124;03m\"\"\"Common post process for each axes\"\"\"\u001b[39;00m\n\u001b[1;32m    719\u001b[0m \u001b[38;5;28;01mif\u001b[39;00m \u001b[38;5;28mself\u001b[39m\u001b[38;5;241m.\u001b[39morientation \u001b[38;5;241m==\u001b[39m \u001b[38;5;124m\"\u001b[39m\u001b[38;5;124mvertical\u001b[39m\u001b[38;5;124m\"\u001b[39m \u001b[38;5;129;01mor\u001b[39;00m \u001b[38;5;28mself\u001b[39m\u001b[38;5;241m.\u001b[39morientation \u001b[38;5;129;01mis\u001b[39;00m \u001b[38;5;28;01mNone\u001b[39;00m:\n\u001b[0;32m--> 720\u001b[0m     \u001b[38;5;28mtype\u001b[39m(\u001b[38;5;28mself\u001b[39m)\u001b[38;5;241m.\u001b[39m_apply_axis_properties(\n\u001b[1;32m    721\u001b[0m         ax\u001b[38;5;241m.\u001b[39mxaxis, rot\u001b[38;5;241m=\u001b[39m\u001b[38;5;28mself\u001b[39m\u001b[38;5;241m.\u001b[39mrot, fontsize\u001b[38;5;241m=\u001b[39m\u001b[38;5;28mself\u001b[39m\u001b[38;5;241m.\u001b[39mfontsize\n\u001b[1;32m    722\u001b[0m     )\n\u001b[1;32m    723\u001b[0m     \u001b[38;5;28mtype\u001b[39m(\u001b[38;5;28mself\u001b[39m)\u001b[38;5;241m.\u001b[39m_apply_axis_properties(ax\u001b[38;5;241m.\u001b[39myaxis, fontsize\u001b[38;5;241m=\u001b[39m\u001b[38;5;28mself\u001b[39m\u001b[38;5;241m.\u001b[39mfontsize)\n\u001b[1;32m    725\u001b[0m     \u001b[38;5;28;01mif\u001b[39;00m \u001b[38;5;28mhasattr\u001b[39m(ax, \u001b[38;5;124m\"\u001b[39m\u001b[38;5;124mright_ax\u001b[39m\u001b[38;5;124m\"\u001b[39m):\n",
      "File \u001b[0;32m~/miniconda3/envs/myenv/lib/python3.12/site-packages/pandas/plotting/_matplotlib/core.py:822\u001b[0m, in \u001b[0;36mMPLPlot._apply_axis_properties\u001b[0;34m(axis, rot, fontsize)\u001b[0m\n\u001b[1;32m    814\u001b[0m \u001b[38;5;250m\u001b[39m\u001b[38;5;124;03m\"\"\"\u001b[39;00m\n\u001b[1;32m    815\u001b[0m \u001b[38;5;124;03mTick creation within matplotlib is reasonably expensive and is\u001b[39;00m\n\u001b[1;32m    816\u001b[0m \u001b[38;5;124;03minternally deferred until accessed as Ticks are created/destroyed\u001b[39;00m\n\u001b[1;32m    817\u001b[0m \u001b[38;5;124;03mmultiple times per draw. It's therefore beneficial for us to avoid\u001b[39;00m\n\u001b[1;32m    818\u001b[0m \u001b[38;5;124;03maccessing unless we will act on the Tick.\u001b[39;00m\n\u001b[1;32m    819\u001b[0m \u001b[38;5;124;03m\"\"\"\u001b[39;00m\n\u001b[1;32m    820\u001b[0m \u001b[38;5;28;01mif\u001b[39;00m rot \u001b[38;5;129;01mis\u001b[39;00m \u001b[38;5;129;01mnot\u001b[39;00m \u001b[38;5;28;01mNone\u001b[39;00m \u001b[38;5;129;01mor\u001b[39;00m fontsize \u001b[38;5;129;01mis\u001b[39;00m \u001b[38;5;129;01mnot\u001b[39;00m \u001b[38;5;28;01mNone\u001b[39;00m:\n\u001b[1;32m    821\u001b[0m     \u001b[38;5;66;03m# rot=0 is a valid setting, hence the explicit None check\u001b[39;00m\n\u001b[0;32m--> 822\u001b[0m     labels \u001b[38;5;241m=\u001b[39m axis\u001b[38;5;241m.\u001b[39mget_majorticklabels() \u001b[38;5;241m+\u001b[39m axis\u001b[38;5;241m.\u001b[39mget_minorticklabels()\n\u001b[1;32m    823\u001b[0m     \u001b[38;5;28;01mfor\u001b[39;00m label \u001b[38;5;129;01min\u001b[39;00m labels:\n\u001b[1;32m    824\u001b[0m         \u001b[38;5;28;01mif\u001b[39;00m rot \u001b[38;5;129;01mis\u001b[39;00m \u001b[38;5;129;01mnot\u001b[39;00m \u001b[38;5;28;01mNone\u001b[39;00m:\n",
      "File \u001b[0;32m~/miniconda3/envs/myenv/lib/python3.12/site-packages/matplotlib/axis.py:1460\u001b[0m, in \u001b[0;36mAxis.get_majorticklabels\u001b[0;34m(self)\u001b[0m\n\u001b[1;32m   1458\u001b[0m \u001b[38;5;28;01mdef\u001b[39;00m \u001b[38;5;21mget_majorticklabels\u001b[39m(\u001b[38;5;28mself\u001b[39m):\n\u001b[1;32m   1459\u001b[0m \u001b[38;5;250m    \u001b[39m\u001b[38;5;124;03m\"\"\"Return this Axis' major tick labels, as a list of `~.text.Text`.\"\"\"\u001b[39;00m\n\u001b[0;32m-> 1460\u001b[0m     \u001b[38;5;28mself\u001b[39m\u001b[38;5;241m.\u001b[39m_update_ticks()\n\u001b[1;32m   1461\u001b[0m     ticks \u001b[38;5;241m=\u001b[39m \u001b[38;5;28mself\u001b[39m\u001b[38;5;241m.\u001b[39mget_major_ticks()\n\u001b[1;32m   1462\u001b[0m     labels1 \u001b[38;5;241m=\u001b[39m [tick\u001b[38;5;241m.\u001b[39mlabel1 \u001b[38;5;28;01mfor\u001b[39;00m tick \u001b[38;5;129;01min\u001b[39;00m ticks \u001b[38;5;28;01mif\u001b[39;00m tick\u001b[38;5;241m.\u001b[39mlabel1\u001b[38;5;241m.\u001b[39mget_visible()]\n",
      "File \u001b[0;32m~/miniconda3/envs/myenv/lib/python3.12/site-packages/matplotlib/axis.py:1307\u001b[0m, in \u001b[0;36mAxis._update_ticks\u001b[0;34m(self)\u001b[0m\n\u001b[1;32m   1305\u001b[0m     tick\u001b[38;5;241m.\u001b[39mlabel1\u001b[38;5;241m.\u001b[39mset_text(label)\n\u001b[1;32m   1306\u001b[0m     tick\u001b[38;5;241m.\u001b[39mlabel2\u001b[38;5;241m.\u001b[39mset_text(label)\n\u001b[0;32m-> 1307\u001b[0m minor_locs \u001b[38;5;241m=\u001b[39m \u001b[38;5;28mself\u001b[39m\u001b[38;5;241m.\u001b[39mget_minorticklocs()\n\u001b[1;32m   1308\u001b[0m minor_labels \u001b[38;5;241m=\u001b[39m \u001b[38;5;28mself\u001b[39m\u001b[38;5;241m.\u001b[39mminor\u001b[38;5;241m.\u001b[39mformatter\u001b[38;5;241m.\u001b[39mformat_ticks(minor_locs)\n\u001b[1;32m   1309\u001b[0m minor_ticks \u001b[38;5;241m=\u001b[39m \u001b[38;5;28mself\u001b[39m\u001b[38;5;241m.\u001b[39mget_minor_ticks(\u001b[38;5;28mlen\u001b[39m(minor_locs))\n",
      "File \u001b[0;32m~/miniconda3/envs/myenv/lib/python3.12/site-packages/matplotlib/axis.py:1536\u001b[0m, in \u001b[0;36mAxis.get_minorticklocs\u001b[0;34m(self)\u001b[0m\n\u001b[1;32m   1534\u001b[0m \u001b[38;5;250m\u001b[39m\u001b[38;5;124;03m\"\"\"Return this Axis' minor tick locations in data coordinates.\"\"\"\u001b[39;00m\n\u001b[1;32m   1535\u001b[0m \u001b[38;5;66;03m# Remove minor ticks duplicating major ticks.\u001b[39;00m\n\u001b[0;32m-> 1536\u001b[0m minor_locs \u001b[38;5;241m=\u001b[39m np\u001b[38;5;241m.\u001b[39masarray(\u001b[38;5;28mself\u001b[39m\u001b[38;5;241m.\u001b[39mminor\u001b[38;5;241m.\u001b[39mlocator())\n\u001b[1;32m   1537\u001b[0m \u001b[38;5;28;01mif\u001b[39;00m \u001b[38;5;28mself\u001b[39m\u001b[38;5;241m.\u001b[39mremove_overlapping_locs:\n\u001b[1;32m   1538\u001b[0m     major_locs \u001b[38;5;241m=\u001b[39m \u001b[38;5;28mself\u001b[39m\u001b[38;5;241m.\u001b[39mmajor\u001b[38;5;241m.\u001b[39mlocator()\n",
      "File \u001b[0;32m~/miniconda3/envs/myenv/lib/python3.12/site-packages/pandas/plotting/_matplotlib/converter.py:1001\u001b[0m, in \u001b[0;36mTimeSeries_DateLocator.__call__\u001b[0;34m(self)\u001b[0m\n\u001b[1;32m    999\u001b[0m     vmin, vmax \u001b[38;5;241m=\u001b[39m vmax, vmin\n\u001b[1;32m   1000\u001b[0m \u001b[38;5;28;01mif\u001b[39;00m \u001b[38;5;28mself\u001b[39m\u001b[38;5;241m.\u001b[39misdynamic:\n\u001b[0;32m-> 1001\u001b[0m     locs \u001b[38;5;241m=\u001b[39m \u001b[38;5;28mself\u001b[39m\u001b[38;5;241m.\u001b[39m_get_default_locs(vmin, vmax)\n\u001b[1;32m   1002\u001b[0m \u001b[38;5;28;01melse\u001b[39;00m:  \u001b[38;5;66;03m# pragma: no cover\u001b[39;00m\n\u001b[1;32m   1003\u001b[0m     base \u001b[38;5;241m=\u001b[39m \u001b[38;5;28mself\u001b[39m\u001b[38;5;241m.\u001b[39mbase\n",
      "File \u001b[0;32m~/miniconda3/envs/myenv/lib/python3.12/site-packages/pandas/plotting/_matplotlib/converter.py:986\u001b[0m, in \u001b[0;36mTimeSeries_DateLocator._get_default_locs\u001b[0;34m(self, vmin, vmax)\u001b[0m\n\u001b[1;32m    984\u001b[0m \u001b[38;5;28;01mdef\u001b[39;00m \u001b[38;5;21m_get_default_locs\u001b[39m(\u001b[38;5;28mself\u001b[39m, vmin, vmax):\n\u001b[1;32m    985\u001b[0m \u001b[38;5;250m    \u001b[39m\u001b[38;5;124;03m\"\"\"Returns the default locations of ticks.\"\"\"\u001b[39;00m\n\u001b[0;32m--> 986\u001b[0m     locator \u001b[38;5;241m=\u001b[39m \u001b[38;5;28mself\u001b[39m\u001b[38;5;241m.\u001b[39mfinder(vmin, vmax, \u001b[38;5;28mself\u001b[39m\u001b[38;5;241m.\u001b[39mfreq)\n\u001b[1;32m    988\u001b[0m     \u001b[38;5;28;01mif\u001b[39;00m \u001b[38;5;28mself\u001b[39m\u001b[38;5;241m.\u001b[39misminor:\n\u001b[1;32m    989\u001b[0m         \u001b[38;5;28;01mreturn\u001b[39;00m np\u001b[38;5;241m.\u001b[39mcompress(locator[\u001b[38;5;124m\"\u001b[39m\u001b[38;5;124mmin\u001b[39m\u001b[38;5;124m\"\u001b[39m], locator[\u001b[38;5;124m\"\u001b[39m\u001b[38;5;124mval\u001b[39m\u001b[38;5;124m\"\u001b[39m])\n",
      "File \u001b[0;32m~/miniconda3/envs/myenv/lib/python3.12/site-packages/pandas/plotting/_matplotlib/converter.py:693\u001b[0m, in \u001b[0;36m_daily_finder\u001b[0;34m(vmin, vmax, freq)\u001b[0m\n\u001b[1;32m    691\u001b[0m     _hour_finder(\u001b[38;5;241m2\u001b[39m, \u001b[38;5;28;01mFalse\u001b[39;00m)\n\u001b[1;32m    692\u001b[0m \u001b[38;5;28;01melif\u001b[39;00m span \u001b[38;5;241m<\u001b[39m periodsperday \u001b[38;5;241m*\u001b[39m \u001b[38;5;241m1.25\u001b[39m:\n\u001b[0;32m--> 693\u001b[0m     _hour_finder(\u001b[38;5;241m3\u001b[39m, \u001b[38;5;28;01mFalse\u001b[39;00m)\n\u001b[1;32m    694\u001b[0m \u001b[38;5;28;01melif\u001b[39;00m span \u001b[38;5;241m<\u001b[39m periodsperday \u001b[38;5;241m*\u001b[39m \u001b[38;5;241m2.5\u001b[39m:\n\u001b[1;32m    695\u001b[0m     _hour_finder(\u001b[38;5;241m6\u001b[39m, \u001b[38;5;28;01mTrue\u001b[39;00m)\n",
      "File \u001b[0;32m~/miniconda3/envs/myenv/lib/python3.12/site-packages/pandas/plotting/_matplotlib/converter.py:636\u001b[0m, in \u001b[0;36m_daily_finder.<locals>._hour_finder\u001b[0;34m(label_interval, force_year_start)\u001b[0m\n\u001b[1;32m    635\u001b[0m \u001b[38;5;28;01mdef\u001b[39;00m \u001b[38;5;21m_hour_finder\u001b[39m(label_interval: \u001b[38;5;28mint\u001b[39m, force_year_start: \u001b[38;5;28mbool\u001b[39m) \u001b[38;5;241m-\u001b[39m\u001b[38;5;241m>\u001b[39m \u001b[38;5;28;01mNone\u001b[39;00m:\n\u001b[0;32m--> 636\u001b[0m     target \u001b[38;5;241m=\u001b[39m dates_\u001b[38;5;241m.\u001b[39mhour\n\u001b[1;32m    637\u001b[0m     mask \u001b[38;5;241m=\u001b[39m _period_break_mask(dates_, \u001b[38;5;124m\"\u001b[39m\u001b[38;5;124mhour\u001b[39m\u001b[38;5;124m\"\u001b[39m)\n\u001b[1;32m    638\u001b[0m     info_maj[day_start] \u001b[38;5;241m=\u001b[39m \u001b[38;5;28;01mTrue\u001b[39;00m\n",
      "File \u001b[0;32m~/miniconda3/envs/myenv/lib/python3.12/site-packages/pandas/core/indexes/extension.py:68\u001b[0m, in \u001b[0;36m_inherit_from_data.<locals>.fget\u001b[0;34m(self)\u001b[0m\n\u001b[1;32m     67\u001b[0m \u001b[38;5;28;01mdef\u001b[39;00m \u001b[38;5;21mfget\u001b[39m(\u001b[38;5;28mself\u001b[39m):\n\u001b[0;32m---> 68\u001b[0m     result \u001b[38;5;241m=\u001b[39m \u001b[38;5;28mgetattr\u001b[39m(\u001b[38;5;28mself\u001b[39m\u001b[38;5;241m.\u001b[39m_data, name)\n\u001b[1;32m     69\u001b[0m     \u001b[38;5;28;01mif\u001b[39;00m wrap:\n\u001b[1;32m     70\u001b[0m         \u001b[38;5;28;01mif\u001b[39;00m \u001b[38;5;28misinstance\u001b[39m(result, \u001b[38;5;28mtype\u001b[39m(\u001b[38;5;28mself\u001b[39m\u001b[38;5;241m.\u001b[39m_data)):\n",
      "File \u001b[0;32m~/miniconda3/envs/myenv/lib/python3.12/site-packages/pandas/core/arrays/period.py:111\u001b[0m, in \u001b[0;36m_field_accessor.<locals>.f\u001b[0;34m(self)\u001b[0m\n\u001b[1;32m    109\u001b[0m \u001b[38;5;28;01mdef\u001b[39;00m \u001b[38;5;21mf\u001b[39m(\u001b[38;5;28mself\u001b[39m):\n\u001b[1;32m    110\u001b[0m     base \u001b[38;5;241m=\u001b[39m \u001b[38;5;28mself\u001b[39m\u001b[38;5;241m.\u001b[39mdtype\u001b[38;5;241m.\u001b[39m_dtype_code\n\u001b[0;32m--> 111\u001b[0m     result \u001b[38;5;241m=\u001b[39m get_period_field_arr(name, \u001b[38;5;28mself\u001b[39m\u001b[38;5;241m.\u001b[39masi8, base)\n\u001b[1;32m    112\u001b[0m     \u001b[38;5;28;01mreturn\u001b[39;00m result\n",
      "\u001b[0;31mKeyboardInterrupt\u001b[0m: "
     ]
    }
   ],
   "source": [
    "freq=fastdata.index[1]-fastdata.index[0]\n",
    "fastdata.resample(freq).mean()"
   ]
  }
 ],
 "metadata": {
  "kernelspec": {
   "display_name": "myenv",
   "language": "python",
   "name": "python3"
  },
  "language_info": {
   "codemirror_mode": {
    "name": "ipython",
    "version": 3
   },
   "file_extension": ".py",
   "mimetype": "text/x-python",
   "name": "python",
   "nbconvert_exporter": "python",
   "pygments_lexer": "ipython3",
   "version": "3.12.4"
  }
 },
 "nbformat": 4,
 "nbformat_minor": 2
}
